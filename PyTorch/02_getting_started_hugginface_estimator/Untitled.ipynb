{
 "cells": [
  {
   "cell_type": "code",
   "execution_count": 1,
   "id": "023a86de-a22b-4f36-9ca3-a06623100fb2",
   "metadata": {},
   "outputs": [],
   "source": [
    "my_dict = {'id': [0, 1, 2],\n",
    "           'name': ['mary', 'bob', 'eve'],\n",
    "           'age': [24, 53, 19]}"
   ]
  },
  {
   "cell_type": "code",
   "execution_count": 2,
   "id": "3f672a02-be63-444d-aa19-e6f3ed8d1e90",
   "metadata": {},
   "outputs": [],
   "source": [
    "from datasets import Dataset\n",
    "dataset = Dataset.from_dict(my_dict)"
   ]
  },
  {
   "cell_type": "code",
   "execution_count": 6,
   "id": "39426550-171d-4879-a8d0-52afd6c729e0",
   "metadata": {},
   "outputs": [
    {
     "data": {
      "text/plain": [
       "{'id': Value(dtype='int64', id=None),\n",
       " 'name': Value(dtype='string', id=None),\n",
       " 'age': Value(dtype='int64', id=None)}"
      ]
     },
     "execution_count": 6,
     "metadata": {},
     "output_type": "execute_result"
    }
   ],
   "source": [
    "dataset.features"
   ]
  },
  {
   "cell_type": "code",
   "execution_count": null,
   "id": "2d9e2915-5030-488e-8ea4-84e068b24317",
   "metadata": {},
   "outputs": [],
   "source": []
  }
 ],
 "metadata": {
  "kernelspec": {
   "display_name": "Python 3 (ipykernel)",
   "language": "python",
   "name": "python3"
  },
  "language_info": {
   "codemirror_mode": {
    "name": "ipython",
    "version": 3
   },
   "file_extension": ".py",
   "mimetype": "text/x-python",
   "name": "python",
   "nbconvert_exporter": "python",
   "pygments_lexer": "ipython3",
   "version": "3.8.12"
  }
 },
 "nbformat": 4,
 "nbformat_minor": 5
}
